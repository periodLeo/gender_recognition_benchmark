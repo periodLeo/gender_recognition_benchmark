{
 "cells": [
  {
   "cell_type": "code",
   "execution_count": 1,
   "metadata": {},
   "outputs": [],
   "source": [
    "import torch\n",
    "import torch.optim as optim\n",
    "import torch.nn as nn\n",
    "from torch.utils.data import DataLoader\n",
    "from os import path"
   ]
  },
  {
   "cell_type": "code",
   "execution_count": 21,
   "metadata": {},
   "outputs": [],
   "source": [
    "from models.linearclassifier import LinearClassifier\n",
    "from models.lstmclassifier import LSTMClassifier\n",
    "from voicedataset import VoiceDataset"
   ]
  },
  {
   "cell_type": "code",
   "execution_count": 4,
   "metadata": {},
   "outputs": [],
   "source": [
    "# Define data directory locations\n",
    "BASE_DIR = 'dataset/Common1/'\n",
    "\n",
    "train_male = path.join(BASE_DIR, 'train_male')\n",
    "train_female = path.join(BASE_DIR, 'train_female')\n",
    "test_male = path.join(BASE_DIR, 'test_male')\n",
    "test_female = path.join(BASE_DIR, 'test_female')"
   ]
  },
  {
   "cell_type": "code",
   "execution_count": 6,
   "metadata": {},
   "outputs": [
    {
     "name": "stdout",
     "output_type": "stream",
     "text": [
      "Done for males\n",
      "Done for females\n",
      "Done for males\n",
      "Done for females\n"
     ]
    }
   ],
   "source": [
    "# Take severals minutes\n",
    "train_dataset = VoiceDataset(train_male, train_female)\n",
    "test_dataset = VoiceDataset(test_male, test_female)"
   ]
  },
  {
   "cell_type": "code",
   "execution_count": 7,
   "metadata": {},
   "outputs": [],
   "source": [
    "train_loader = DataLoader(train_dataset, batch_size=16, shuffle=True)"
   ]
  },
  {
   "cell_type": "code",
   "execution_count": 20,
   "metadata": {},
   "outputs": [
    {
     "name": "stdout",
     "output_type": "stream",
     "text": [
      "Epoch [1/5], Loss: 0.0152\n",
      "Epoch [2/5], Loss: 0.0328\n",
      "Epoch [3/5], Loss: 0.0065\n",
      "Epoch [4/5], Loss: 0.0003\n",
      "Epoch [5/5], Loss: 0.1783\n"
     ]
    }
   ],
   "source": [
    "# Training Linear\n",
    "model = LinearClassifier()\n",
    "criterion = nn.CrossEntropyLoss()\n",
    "optimizer = optim.Adam(model.parameters(), lr=0.001)\n",
    "n_epochs = 10\n",
    "\n",
    "for epoch in range(n_epochs):\n",
    "    for inputs, labels in train_loader:\n",
    "        optimizer.zero_grad()\n",
    "        outputs = model(inputs)\n",
    "        loss = criterion(outputs, labels)\n",
    "        loss.backward()\n",
    "        optimizer.step()\n",
    "    print(f'Epoch [{epoch+1}/{n_epochs}], Loss: {loss.item():.4f}')"
   ]
  },
  {
   "cell_type": "code",
   "execution_count": 18,
   "metadata": {},
   "outputs": [
    {
     "name": "stdout",
     "output_type": "stream",
     "text": [
      "Epoch [1/30], Loss: 0.1774\n",
      "Epoch [2/30], Loss: 0.0888\n",
      "Epoch [3/30], Loss: 0.0794\n",
      "Epoch [4/30], Loss: 0.0743\n",
      "Epoch [5/30], Loss: 0.0712\n",
      "Epoch [6/30], Loss: 0.0669\n",
      "Epoch [7/30], Loss: 0.0633\n",
      "Epoch [8/30], Loss: 0.0590\n",
      "Epoch [9/30], Loss: 0.0549\n",
      "Epoch [10/30], Loss: 0.0537\n",
      "Epoch [11/30], Loss: 0.0518\n",
      "Epoch [12/30], Loss: 0.0520\n",
      "Epoch [13/30], Loss: 0.0510\n",
      "Epoch [14/30], Loss: 0.0502\n",
      "Epoch [15/30], Loss: 0.0485\n",
      "Epoch [16/30], Loss: 0.0475\n",
      "Epoch [17/30], Loss: 0.0450\n",
      "Epoch [18/30], Loss: 0.0441\n",
      "Epoch [19/30], Loss: 0.0437\n",
      "Epoch [20/30], Loss: 0.0416\n",
      "Epoch [21/30], Loss: 0.0432\n",
      "Epoch [22/30], Loss: 0.0406\n",
      "Epoch [23/30], Loss: 0.0396\n",
      "Epoch [24/30], Loss: 0.0387\n",
      "Epoch [25/30], Loss: 0.0406\n",
      "Epoch [26/30], Loss: 0.0392\n",
      "Epoch [27/30], Loss: 0.0387\n",
      "Epoch [28/30], Loss: 0.0362\n",
      "Epoch [29/30], Loss: 0.0363\n",
      "Epoch [30/30], Loss: 0.0353\n"
     ]
    }
   ],
   "source": [
    "model = LSTMClassifier()\n",
    "criterion = nn.BCELoss()  \n",
    "optimizer = optim.Adam(model.parameters(), lr=0.001)\n",
    "num_epochs = 30  \n",
    "\n",
    "for epoch in range(num_epochs):\n",
    "    model.train()\n",
    "    total_loss = 0\n",
    "\n",
    "    for batch_X, batch_y in train_loader:\n",
    "        batch_X = batch_X.unsqueeze(1)\n",
    "        batch_y = batch_y.float()\n",
    "        optimizer.zero_grad()\n",
    "        outputs = model(batch_X)\n",
    "        loss = criterion(outputs.squeeze(), batch_y)  # Squeeze to match the shape\n",
    "        loss.backward()\n",
    "        optimizer.step()\n",
    "\n",
    "        total_loss += loss.item()\n",
    "\n",
    "    average_loss = total_loss / len(train_loader)\n",
    "    print(f'Epoch [{epoch + 1}/{num_epochs}], Loss: {average_loss:.4f}')"
   ]
  },
  {
   "cell_type": "code",
   "execution_count": 20,
   "metadata": {},
   "outputs": [
    {
     "name": "stdout",
     "output_type": "stream",
     "text": [
      "Accuracy of the model on the test set: 89.08%\n"
     ]
    }
   ],
   "source": [
    "# Test the model\n",
    "with torch.no_grad():\n",
    "    model.eval()\n",
    "    correct = 0\n",
    "    total = 0\n",
    "    for inputs, labels in DataLoader(test_dataset, batch_size=16):\n",
    "        inputs = inputs.unsqueeze(1)\n",
    "        outputs = model(inputs)\n",
    "        _, predicted = torch.max(outputs.data, 1)\n",
    "        total += labels.size(0)\n",
    "        correct += (predicted == labels).sum().item()\n",
    "\n",
    "    print(f'Accuracy of the model on the test set: {100 * correct / total:.2f}%')"
   ]
  }
 ],
 "metadata": {
  "kernelspec": {
   "display_name": "env",
   "language": "python",
   "name": "python3"
  },
  "language_info": {
   "codemirror_mode": {
    "name": "ipython",
    "version": 3
   },
   "file_extension": ".py",
   "mimetype": "text/x-python",
   "name": "python",
   "nbconvert_exporter": "python",
   "pygments_lexer": "ipython3",
   "version": "3.12.6"
  }
 },
 "nbformat": 4,
 "nbformat_minor": 2
}
